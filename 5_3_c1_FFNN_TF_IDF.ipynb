{
 "cells": [
  {
   "cell_type": "markdown",
   "metadata": {},
   "source": [
    "# Technical Paper:\n",
    "# Text Mining and Document Classification Workflows for Chinese Administrative Documents\n",
    "\n",
    "## File 5_3_c1 - Feed-Forward Neural Network (training)\n",
    "\n",
    "In this file, we are training a Feed-Forward Neural Network on TF-IDF data.\n",
    "Prediction was conducted in a separate file (5_3_c2) to decrease computational requirements and increase flexibility for computations on a different machine. \n",
    "\n",
    "\n",
    "## 1. Packages and data\n",
    "### 1.1 load packages"
   ]
  },
  {
   "cell_type": "code",
   "execution_count": null,
   "metadata": {},
   "outputs": [],
   "source": [
    "# packages regular\n",
    "import pandas as pd \n",
    "import numpy as np\n",
    "import random\n",
    "import os\n",
    "import joblib\n",
    "\n",
    "# Machine learning tools\n",
    "from sklearn.utils import resample\n",
    "from sklearn.model_selection import train_test_split\n",
    "from sklearn.svm import LinearSVC\n",
    "from sklearn.feature_selection import SelectFromModel\n",
    "from sklearn.preprocessing import StandardScaler\n",
    "from sklearn.decomposition import PCA\n",
    "from sklearn.metrics import confusion_matrix\n",
    "\n",
    "# Visualization tools\n",
    "import matplotlib.pyplot as plt\n",
    "import seaborn as sns; sns.set()"
   ]
  },
  {
   "cell_type": "code",
   "execution_count": 53,
   "metadata": {},
   "outputs": [
    {
     "data": {
      "text/plain": [
       "('1.26.4', '2.2.3', '1.3.2', '0.13.2')"
      ]
     },
     "execution_count": 53,
     "metadata": {},
     "output_type": "execute_result"
    }
   ],
   "source": [
    "# core package versions\n",
    "np.__version__, pd.__version__, joblib.__version__, sns.__version__    "
   ]
  },
  {
   "cell_type": "markdown",
   "metadata": {},
   "source": [
    "Python Version 3.10.13; Tensorflow version with GPU support."
   ]
  },
  {
   "cell_type": "code",
   "execution_count": null,
   "metadata": {},
   "outputs": [
    {
     "data": {
      "text/plain": [
       "'2.10.0'"
      ]
     },
     "execution_count": 54,
     "metadata": {},
     "output_type": "execute_result"
    }
   ],
   "source": [
    "# packages for neural networks\n",
    "import tensorflow as tf\n",
    "from tensorflow.keras import layers, models\n",
    "from tensorflow.keras.callbacks import EarlyStopping\n",
    "tf.__version__\n"
   ]
  },
  {
   "cell_type": "code",
   "execution_count": 55,
   "metadata": {},
   "outputs": [],
   "source": [
    "# further stuff\n",
    "from keras.models import Sequential\n",
    "from keras.layers import Dense, Dropout\n",
    "from keras.metrics import Recall"
   ]
  },
  {
   "cell_type": "code",
   "execution_count": 56,
   "metadata": {},
   "outputs": [
    {
     "name": "stdout",
     "output_type": "stream",
     "text": [
      "Num GPUs Available:  1\n"
     ]
    }
   ],
   "source": [
    "# check GPU support\n",
    "print(\"Num GPUs Available: \", len(tf.config.experimental.list_physical_devices('GPU')))\n"
   ]
  },
  {
   "cell_type": "code",
   "execution_count": 57,
   "metadata": {},
   "outputs": [],
   "source": [
    "# set a seed for reproducibility\n",
    "random.seed(421)           # Python random module\n",
    "np.random.seed(421)        # NumPy random generator\n",
    "tf.random.set_seed(421)    # TensorFlow/Keras random generator"
   ]
  },
  {
   "cell_type": "markdown",
   "metadata": {},
   "source": [
    "### 1.2 Load data"
   ]
  },
  {
   "cell_type": "markdown",
   "metadata": {},
   "source": [
    "After setting the respective working directory, we load the TFIDF-encoded data for further preprocessing and model training."
   ]
  },
  {
   "cell_type": "code",
   "execution_count": null,
   "metadata": {},
   "outputs": [],
   "source": [
    "# set work directory\n",
    "os.chdir(\"working_directory\")"
   ]
  },
  {
   "cell_type": "markdown",
   "metadata": {},
   "source": [
    "Y is saved as a numpy array, and X is saved as a sparse matrix."
   ]
  },
  {
   "cell_type": "code",
   "execution_count": null,
   "metadata": {},
   "outputs": [
    {
     "data": {
      "text/plain": [
       "(y_broad\n",
       " 0    12806\n",
       " 1      770\n",
       " Name: count, dtype: int64,\n",
       " y_broad\n",
       " 0    6308\n",
       " 1     380\n",
       " Name: count, dtype: int64)"
      ]
     },
     "execution_count": 9,
     "metadata": {},
     "output_type": "execute_result"
    }
   ],
   "source": [
    "# Load Y\n",
    "y_train = pd.read_csv('./y_broad/y_broad_train.csv')['y_broad']\n",
    "y_test = pd.read_csv('./y_broad/y_broad_test.csv')['y_broad']\n",
    "y_train.value_counts(), y_test.value_counts()"
   ]
  },
  {
   "cell_type": "code",
   "execution_count": 58,
   "metadata": {},
   "outputs": [],
   "source": [
    "# Load X (TF-IDF)\n",
    "tfidf_feature_names = pd.read_csv('tfidf_feature_names.csv').iloc[:,1].tolist()\n",
    "X_tfidf_train = pd.DataFrame(joblib.load('./y_broad/tfidf_matrix_train.pkl').toarray(), columns=tfidf_feature_names)\n",
    "X_tfidf_test = pd.DataFrame(joblib.load('./y_broad/tfidf_matrix_test.pkl').toarray(), columns=tfidf_feature_names)\n"
   ]
  },
  {
   "cell_type": "code",
   "execution_count": null,
   "metadata": {},
   "outputs": [
    {
     "data": {
      "text/plain": [
       "((13576, 21960), (6688, 21960))"
      ]
     },
     "execution_count": 59,
     "metadata": {},
     "output_type": "execute_result"
    }
   ],
   "source": [
    "# check the sahpes of the data\n",
    "X_tfidf_train.shape, X_tfidf_test.shape"
   ]
  },
  {
   "cell_type": "markdown",
   "metadata": {},
   "source": [
    "### 1.3 Feature Selection\n",
    "\n",
    "As before, we use a SVM with a L1 penalty to eliminate features that do not influence y in order to improve model performance.\n",
    "Here, the regularization parameter C is set to 2, capturing a larger number of features than in the previous file with the SVM classifier."
   ]
  },
  {
   "cell_type": "code",
   "execution_count": 61,
   "metadata": {},
   "outputs": [],
   "source": [
    "# SVM model with penalty\n",
    "lsvc = LinearSVC(C=2, # lower C --> fewer features\n",
    "                 penalty=\"l1\", \n",
    "                 dual=False,\n",
    "                 random_state=421,\n",
    "                 max_iter = 5000)\n",
    "SVClinL1 = SelectFromModel(lsvc).fit(X_tfidf_train, y_train)"
   ]
  },
  {
   "cell_type": "code",
   "execution_count": 62,
   "metadata": {},
   "outputs": [],
   "source": [
    "# extract all feature names\n",
    "feature_names = X_tfidf_train.columns if hasattr(X_tfidf_train, \"columns\") else np.arange(X_tfidf_train.shape[1])\n",
    "# get the mask of selected features\n",
    "selected_features_mask = SVClinL1.get_support()\n",
    "# extract names of the selected features\n",
    "selected_feature_names = feature_names[selected_features_mask]"
   ]
  },
  {
   "cell_type": "code",
   "execution_count": 63,
   "metadata": {},
   "outputs": [
    {
     "name": "stdout",
     "output_type": "stream",
     "text": [
      "shape of the matrix after applying the embedded feature selection: (13576, 946)\n"
     ]
    }
   ],
   "source": [
    "# transform the training data\n",
    "X_tfidf_train_transformed = SVClinL1.transform(X_tfidf_train)\n",
    "X_tfidf_train_transformed = pd.DataFrame(X_tfidf_train_transformed, columns=selected_feature_names)\n",
    "print(\"shape of the matrix after applying the embedded feature selection:\", X_tfidf_train_transformed.shape)"
   ]
  },
  {
   "cell_type": "code",
   "execution_count": 64,
   "metadata": {},
   "outputs": [
    {
     "name": "stdout",
     "output_type": "stream",
     "text": [
      "shape of the matrix after applying the embedded feature selection: (6688, 946)\n"
     ]
    }
   ],
   "source": [
    "# Transform the test data\n",
    "X_tfidf_test_transformed = SVClinL1.transform(X_tfidf_test)\n",
    "X_tfidf_test_transformed = pd.DataFrame(X_tfidf_test_transformed, columns=selected_feature_names)\n",
    "print(\"shape of the matrix after applying the embedded feature selection:\", X_tfidf_test_transformed.shape)"
   ]
  },
  {
   "cell_type": "markdown",
   "metadata": {},
   "source": [
    "### 1.4 Validation sample and upsampling\n",
    "\n",
    "In order to avoid over-fitting, the training data is split into training and validation sets for model training. Here, the validation set is 30% of the training data.\n",
    "Test data is kept for final verification."
   ]
  },
  {
   "cell_type": "code",
   "execution_count": null,
   "metadata": {},
   "outputs": [],
   "source": [
    "# Split the data into training and validation sets\n",
    "x_train2, x_val, y_train2, y_val = train_test_split(X_tfidf_train_transformed, y_train, \n",
    "                                                    test_size=0.3, stratify=y_train, random_state=42)"
   ]
  },
  {
   "cell_type": "code",
   "execution_count": null,
   "metadata": {},
   "outputs": [
    {
     "data": {
      "text/plain": [
       "((9503, 946),\n",
       " y_broad\n",
       " 0    8964\n",
       " 1     539\n",
       " Name: count, dtype: int64)"
      ]
     },
     "execution_count": 70,
     "metadata": {},
     "output_type": "execute_result"
    }
   ],
   "source": [
    "# Check dimensions and distribution of the training set\n",
    "x_train2.shape, y_train2.value_counts()"
   ]
  },
  {
   "cell_type": "code",
   "execution_count": null,
   "metadata": {},
   "outputs": [
    {
     "data": {
      "text/plain": [
       "((4073, 946),\n",
       " y_broad\n",
       " 0    3842\n",
       " 1     231\n",
       " Name: count, dtype: int64)"
      ]
     },
     "execution_count": 71,
     "metadata": {},
     "output_type": "execute_result"
    }
   ],
   "source": [
    "# Check dimensions and distribution of the validation set\n",
    "x_val.shape, y_val.value_counts()"
   ]
  },
  {
   "cell_type": "markdown",
   "metadata": {},
   "source": [
    "Upsampling is conducted as in the other code files, so that model training is not biased towards the majority class. Validation and test data are not upsampled, so that performance on imbalanced data can be evaluated."
   ]
  },
  {
   "cell_type": "code",
   "execution_count": 72,
   "metadata": {},
   "outputs": [],
   "source": [
    "# Select the minority class samples\n",
    "minority_class_samples = x_train2[y_train2 == 1]\n",
    "\n",
    "# Extract the corresponding labels for the minority class samples.\n",
    "minority_class_labels = y_train2[y_train2 == 1]\n",
    "\n",
    "# Upsample the minority class to match the majority class\n",
    "X_upsampled, y_upsampled = resample(minority_class_samples, # upsample the minority class samples \n",
    "                                    minority_class_labels, # upsample labels \n",
    "                                    replace=True, # add more to the original number of samples\n",
    "                                    n_samples=x_train2[y_train2 == 0].shape[0], # desired number of samples\n",
    "                                    random_state=421) # seed for reproducibility.\n",
    "\n",
    "# Put dataframes together again\n",
    "X_bal = pd.DataFrame(np.vstack((x_train2[y_train2 == 0], X_upsampled)), columns=selected_feature_names)\n",
    "y_bal = np.hstack((y_train2[y_train2 == 0], y_upsampled))"
   ]
  },
  {
   "cell_type": "code",
   "execution_count": 73,
   "metadata": {},
   "outputs": [
    {
     "data": {
      "text/plain": [
       "((17928, 946),\n",
       " (17928,),\n",
       " y_broad\n",
       " 0    3842\n",
       " 1     231\n",
       " Name: count, dtype: int64)"
      ]
     },
     "execution_count": 73,
     "metadata": {},
     "output_type": "execute_result"
    }
   ],
   "source": [
    "# check the dimensions and distribution in the balanced data\n",
    "X_bal.shape, y_bal.shape, y_val.value_counts()"
   ]
  },
  {
   "cell_type": "markdown",
   "metadata": {},
   "source": [
    "### 1.5 Principal Component Analysis\n",
    "\n",
    "Principal Component Analysis (PCA) is used here to reduce correlation among the features, and to reduce their number more generally. \n",
    "As in the SVM file, the data is prepared via scaling, and the PCA algorithm is configured to keep 95% of the variance.\n",
    "Because of the larger C parameter chosen for feature selection here, the number of extracted components is larger than in the SVM file."
   ]
  },
  {
   "cell_type": "code",
   "execution_count": null,
   "metadata": {},
   "outputs": [],
   "source": [
    "# Scaling the data\n",
    "scaler = StandardScaler(with_mean=False)  # with_mean=False for sparse matrices\n",
    "X_bal_scaled = scaler.fit_transform(X_bal)\n",
    "x_val_scaled = scaler.fit_transform(x_val)\n",
    "x_test_scaled = scaler.fit_transform(X_tfidf_test_transformed)"
   ]
  },
  {
   "cell_type": "code",
   "execution_count": null,
   "metadata": {},
   "outputs": [],
   "source": [
    "# Principal Component Analysis\n",
    "pca = PCA(n_components=0.95)  # Retain 95% variance\n",
    "X_train_pca = pca.fit_transform(X_bal_scaled)\n",
    "x_val_pca = pca.transform(x_val_scaled)\n",
    "x_test_pca = pca.transform(x_test_scaled)"
   ]
  },
  {
   "cell_type": "code",
   "execution_count": null,
   "metadata": {},
   "outputs": [
    {
     "data": {
      "text/plain": [
       "((17928, 640), (4073, 640), (6688, 640))"
      ]
     },
     "execution_count": 77,
     "metadata": {},
     "output_type": "execute_result"
    }
   ],
   "source": [
    "# check the dimensions\n",
    "X_train_pca.shape, x_val_pca.shape, x_test_pca.shape"
   ]
  },
  {
   "cell_type": "markdown",
   "metadata": {},
   "source": [
    "## 2. Architecture\n",
    "\n",
    "The neural network is a sequential model with 3 hidden layers, which mainly relies on ReLU (Rectified Linear Unit) as the activation function. The number of neurons decreases progressively, from 64 in the first layer to 8 in the last hidden layer. The final output layer is a single neuron with a sigmoid activation function.\n",
    "\n",
    "Regularization is achieved via dropout, meaning each layer will randomly ignore a certain share of the neurons of the previous layer. The share varies from layer to layer."
   ]
  },
  {
   "cell_type": "code",
   "execution_count": null,
   "metadata": {},
   "outputs": [
    {
     "name": "stdout",
     "output_type": "stream",
     "text": [
      "Model: \"sequential_1\"\n",
      "_________________________________________________________________\n",
      " Layer (type)                Output Shape              Param #   \n",
      "=================================================================\n",
      " dense_5 (Dense)             (None, 64)                41024     \n",
      "                                                                 \n",
      " dropout_4 (Dropout)         (None, 64)                0         \n",
      "                                                                 \n",
      " dense_6 (Dense)             (None, 32)                2080      \n",
      "                                                                 \n",
      " dropout_5 (Dropout)         (None, 32)                0         \n",
      "                                                                 \n",
      " dense_7 (Dense)             (None, 16)                528       \n",
      "                                                                 \n",
      " dropout_6 (Dropout)         (None, 16)                0         \n",
      "                                                                 \n",
      " dense_8 (Dense)             (None, 8)                 136       \n",
      "                                                                 \n",
      " dropout_7 (Dropout)         (None, 8)                 0         \n",
      "                                                                 \n",
      " dense_9 (Dense)             (None, 1)                 9         \n",
      "                                                                 \n",
      "=================================================================\n",
      "Total params: 43,777\n",
      "Trainable params: 43,777\n",
      "Non-trainable params: 0\n",
      "_________________________________________________________________\n"
     ]
    }
   ],
   "source": [
    "# Model architecture\n",
    "model = models.Sequential()\n",
    "model.add(layers.Dense(64, activation = 'relu', input_shape=(640,))) # input_shape: number of features from PCA\n",
    "model.add(Dropout(0.2))\n",
    "model.add(layers.Dense(32, activation = 'relu'))\n",
    "model.add(Dropout(0.8))\n",
    "model.add(layers.Dense(16, activation = 'relu'))\n",
    "model.add(Dropout(0.3))\n",
    "model.add(layers.Dense(8, activation = 'relu'))\n",
    "model.add(Dropout(0.5))\n",
    "model.add(layers.Dense(1, activation= 'sigmoid'))\n",
    "model.summary()"
   ]
  },
  {
   "cell_type": "markdown",
   "metadata": {},
   "source": [
    "Compile the model, specify optimizer, loss function and metrics:"
   ]
  },
  {
   "cell_type": "code",
   "execution_count": 78,
   "metadata": {},
   "outputs": [],
   "source": [
    "# Compiling information\n",
    "model.compile(optimizer='adam', # default\n",
    "             loss='binary_crossentropy', # same as logit loss function\n",
    "             metrics=['accuracy', Recall()]) # compile with accurary and recall"
   ]
  },
  {
   "cell_type": "markdown",
   "metadata": {},
   "source": [
    "## 3. Training\n",
    "\n",
    "In order to avoid unnecessary calculations. an early stopping callback is initialized which will stop training if the model does not achieve improvemtns on validation loss within 5 epochs."
   ]
  },
  {
   "cell_type": "code",
   "execution_count": null,
   "metadata": {},
   "outputs": [],
   "source": [
    "# Initialize the EarlyStopping callback\n",
    "early_stopping = EarlyStopping(\n",
    "    monitor='val_loss',\n",
    "    patience=5, # stop training after 5 epochs without improvement\n",
    "    restore_best_weights=True, \n",
    "    verbose=1             \n",
    ")"
   ]
  },
  {
   "cell_type": "code",
   "execution_count": 36,
   "metadata": {},
   "outputs": [
    {
     "name": "stdout",
     "output_type": "stream",
     "text": [
      "Epoch 1/50\n",
      "36/36 [==============================] - 5s 36ms/step - loss: 0.7383 - accuracy: 0.5444 - recall_1: 0.6150 - val_loss: 0.6899 - val_accuracy: 0.6754 - val_recall_1: 0.9221\n",
      "Epoch 2/50\n",
      "36/36 [==============================] - 1s 22ms/step - loss: 0.6793 - accuracy: 0.6114 - recall_1: 0.5803 - val_loss: 0.6687 - val_accuracy: 0.8274 - val_recall_1: 0.8528\n",
      "Epoch 3/50\n",
      "36/36 [==============================] - 1s 25ms/step - loss: 0.6531 - accuracy: 0.6580 - recall_1: 0.6043 - val_loss: 0.6519 - val_accuracy: 0.8662 - val_recall_1: 0.8874\n",
      "Epoch 4/50\n",
      "36/36 [==============================] - 1s 26ms/step - loss: 0.6185 - accuracy: 0.7026 - recall_1: 0.6561 - val_loss: 0.6362 - val_accuracy: 0.8534 - val_recall_1: 0.9481\n",
      "Epoch 5/50\n",
      "36/36 [==============================] - 1s 27ms/step - loss: 0.5691 - accuracy: 0.7591 - recall_1: 0.7241 - val_loss: 0.6179 - val_accuracy: 0.8559 - val_recall_1: 0.9654\n",
      "Epoch 6/50\n",
      "36/36 [==============================] - 1s 21ms/step - loss: 0.5151 - accuracy: 0.8102 - recall_1: 0.7792 - val_loss: 0.5981 - val_accuracy: 0.8625 - val_recall_1: 0.9740\n",
      "Epoch 7/50\n",
      "36/36 [==============================] - 1s 20ms/step - loss: 0.4464 - accuracy: 0.8583 - recall_1: 0.8185 - val_loss: 0.5772 - val_accuracy: 0.8704 - val_recall_1: 0.9654\n",
      "Epoch 8/50\n",
      "36/36 [==============================] - 1s 20ms/step - loss: 0.3884 - accuracy: 0.8836 - recall_1: 0.8389 - val_loss: 0.5613 - val_accuracy: 0.8807 - val_recall_1: 0.9524\n",
      "Epoch 9/50\n",
      "36/36 [==============================] - 1s 26ms/step - loss: 0.3254 - accuracy: 0.9130 - recall_1: 0.8816 - val_loss: 0.5445 - val_accuracy: 0.8903 - val_recall_1: 0.9437\n",
      "Epoch 10/50\n",
      "36/36 [==============================] - 1s 26ms/step - loss: 0.2694 - accuracy: 0.9341 - recall_1: 0.9080 - val_loss: 0.5197 - val_accuracy: 0.8974 - val_recall_1: 0.9264\n",
      "Epoch 11/50\n",
      "36/36 [==============================] - 1s 25ms/step - loss: 0.2261 - accuracy: 0.9444 - recall_1: 0.9215 - val_loss: 0.5568 - val_accuracy: 0.9011 - val_recall_1: 0.9307\n",
      "Epoch 12/50\n",
      "36/36 [==============================] - 1s 24ms/step - loss: 0.1970 - accuracy: 0.9547 - recall_1: 0.9363 - val_loss: 0.5787 - val_accuracy: 0.9038 - val_recall_1: 0.9264\n",
      "Epoch 13/50\n",
      "36/36 [==============================] - 1s 25ms/step - loss: 0.1730 - accuracy: 0.9632 - recall_1: 0.9478 - val_loss: 0.6270 - val_accuracy: 0.9087 - val_recall_1: 0.9221\n",
      "Epoch 14/50\n",
      "36/36 [==============================] - 1s 27ms/step - loss: 0.1609 - accuracy: 0.9640 - recall_1: 0.9480 - val_loss: 0.6432 - val_accuracy: 0.9119 - val_recall_1: 0.9221\n",
      "Epoch 15/50\n",
      "36/36 [==============================] - ETA: 0s - loss: 0.1449 - accuracy: 0.9707 - recall_1: 0.9548Restoring model weights from the end of the best epoch: 10.\n",
      "36/36 [==============================] - 1s 27ms/step - loss: 0.1449 - accuracy: 0.9707 - recall_1: 0.9548 - val_loss: 0.7286 - val_accuracy: 0.9109 - val_recall_1: 0.9264\n",
      "Epoch 15: early stopping\n"
     ]
    }
   ],
   "source": [
    "# training\n",
    "history = model.fit(X_train_pca, #X_bal,\n",
    "                   y_bal,\n",
    "                   epochs=50,\n",
    "                   batch_size=500,\n",
    "                   callbacks=[early_stopping],\n",
    "                   validation_data=(x_val_pca,y_val))"
   ]
  },
  {
   "cell_type": "markdown",
   "metadata": {},
   "source": [
    "## 4. Evaluation\n",
    "\n",
    "Let's visually inspect the outcomes by plotting a learning curve and the development of training and validation loss over the epochs."
   ]
  },
  {
   "cell_type": "code",
   "execution_count": null,
   "metadata": {},
   "outputs": [
    {
     "name": "stdout",
     "output_type": "stream",
     "text": [
      "209/209 [==============================] - 1s 7ms/step - loss: 0.6289 - accuracy: 0.8904 - recall_1: 0.8921\n"
     ]
    },
    {
     "data": {
      "text/plain": [
       "[0.6288720965385437, 0.8904007077217102, 0.8921052813529968]"
      ]
     },
     "execution_count": 37,
     "metadata": {},
     "output_type": "execute_result"
    }
   ],
   "source": [
    "model.evaluate(x_test_pca, y_test)"
   ]
  },
  {
   "cell_type": "markdown",
   "metadata": {},
   "source": [
    "Test accuracy is 89%, and test sensitivity is 89%. There may be minor deviations when predicting, depending on the hardware and software environment."
   ]
  },
  {
   "cell_type": "markdown",
   "metadata": {},
   "source": [
    "#### Plot the learning curve and loss over epochs"
   ]
  },
  {
   "cell_type": "code",
   "execution_count": 38,
   "metadata": {},
   "outputs": [
    {
     "data": {
      "text/plain": [
       "dict_keys(['loss', 'accuracy', 'recall_1', 'val_loss', 'val_accuracy', 'val_recall_1'])"
      ]
     },
     "execution_count": 38,
     "metadata": {},
     "output_type": "execute_result"
    }
   ],
   "source": [
    "# get element names\n",
    "history.history.keys()"
   ]
  },
  {
   "cell_type": "code",
   "execution_count": 39,
   "metadata": {},
   "outputs": [
    {
     "data": {
      "image/png": "[encoded data removed]",
      "text/plain": [
       "<Figure size 640x480 with 1 Axes>"
      ]
     },
     "metadata": {},
     "output_type": "display_data"
    }
   ],
   "source": [
    "# Learning curve\n",
    "plt.plot(history.history['accuracy'])\n",
    "plt.plot(history.history['val_accuracy'])\n",
    "plt.plot(history.history['recall_1'])\n",
    "plt.plot(history.history['val_recall_1'])\n",
    "plt.title('model accuracy and sensitivity')\n",
    "plt.ylabel('score')\n",
    "plt.xlabel('epoch')\n",
    "plt.legend(['Acc_Train', 'Acc_Val', 'Rec_train', 'Rec_Val'], loc='upper left')\n",
    "plt.show()"
   ]
  },
  {
   "cell_type": "code",
   "execution_count": 40,
   "metadata": {},
   "outputs": [
    {
     "data": {
      "image/png": "[encoded data removed]",
      "text/plain": [
       "<Figure size 640x480 with 1 Axes>"
      ]
     },
     "metadata": {},
     "output_type": "display_data"
    }
   ],
   "source": [
    "# plot the loss\n",
    "plt.plot(history.history['loss'])\n",
    "plt.plot(history.history['val_loss'])\n",
    "plt.title('model loss')\n",
    "plt.ylabel('loss')\n",
    "plt.xlabel('epoch')\n",
    "plt.legend(['train', 'val'], loc='upper left')\n",
    "plt.show()"
   ]
  },
  {
   "cell_type": "markdown",
   "metadata": {},
   "source": [
    "#### Confusion matrix:"
   ]
  },
  {
   "cell_type": "code",
   "execution_count": null,
   "metadata": {},
   "outputs": [
    {
     "name": "stdout",
     "output_type": "stream",
     "text": [
      "209/209 [==============================] - 1s 4ms/step\n",
      "Confusion Matrix:\n"
     ]
    },
    {
     "data": {
      "image/png": "[encoded data removed]",
      "text/plain": [
       "<Figure size 640x480 with 2 Axes>"
      ]
     },
     "metadata": {},
     "output_type": "display_data"
    }
   ],
   "source": [
    "# Confusion matrix\n",
    "confusion = confusion_matrix(y_true=y_test, y_pred=model.predict(x_test_pca)>0.5)\n",
    "print(\"Confusion Matrix:\")\n",
    "sns.heatmap(confusion, annot=True, cmap='Blues', fmt='d')\n",
    "plt.xlabel('Predicted')\n",
    "plt.ylabel('True')\n",
    "plt.title('Confusion Matrix')\n",
    "plt.show()"
   ]
  }
 ],
 "metadata": {
  "kernelspec": {
   "display_name": "ConPy310",
   "language": "python",
   "name": "python3"
  },
  "language_info": {
   "codemirror_mode": {
    "name": "ipython",
    "version": 3
   },
   "file_extension": ".py",
   "mimetype": "text/x-python",
   "name": "python",
   "nbconvert_exporter": "python",
   "pygments_lexer": "ipython3",
   "version": "3.10.13"
  }
 },
 "nbformat": 4,
 "nbformat_minor": 2
}
