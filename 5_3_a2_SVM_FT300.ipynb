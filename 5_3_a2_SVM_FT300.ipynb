{
 "cells": [
  {
   "cell_type": "markdown",
   "metadata": {},
   "source": [
    "# Technical Paper:\n",
    "# Text Mining and Document Classification Workflows for Chinese Administrative Documents\n",
    "\n",
    "## File 5.3.a2 - Support Vector Machine\n",
    "\n",
    "This file goes through a workflow of model training and prediction with linear Support Vector Machines. It uses a resource-efficient combination of data (fastText encoded with 300 features) and algorithm.\n"
   ]
  },
  {
   "cell_type": "markdown",
   "metadata": {},
   "source": [
    "## 1. Load packages and data"
   ]
  },
  {
   "cell_type": "code",
   "execution_count": null,
   "metadata": {},
   "outputs": [],
   "source": [
    "import os\n",
    "import numpy as np\n",
    "import pandas as pd \n",
    "import random\n",
    "import joblib\n",
    "from ast import literal_eval\n",
    "import matplotlib.pyplot as plt\n",
    "import seaborn as sns; sns.set()"
   ]
  },
  {
   "cell_type": "code",
   "execution_count": null,
   "metadata": {},
   "outputs": [],
   "source": [
    "# Machine learning\n",
    "from sklearn.svm import LinearSVC, SVC\n",
    "from sklearn.feature_selection import SelectFromModel\n",
    "from sklearn.utils import resample\n",
    "from sklearn.preprocessing import StandardScaler\n",
    "from sklearn.decomposition import PCA\n",
    "from sklearn import metrics\n",
    "from sklearn.metrics import confusion_matrix\n",
    "from sklearn.model_selection import GridSearchCV"
   ]
  },
  {
   "cell_type": "code",
   "execution_count": 3,
   "metadata": {},
   "outputs": [],
   "source": [
    "# Set seeds for reproducability\n",
    "np.random.seed(421)\n",
    "random.seed(421)"
   ]
  },
  {
   "cell_type": "code",
   "execution_count": null,
   "metadata": {},
   "outputs": [],
   "source": [
    "# set working directory\n",
    "os.chdir(\"working_directory\")"
   ]
  },
  {
   "cell_type": "code",
   "execution_count": 5,
   "metadata": {},
   "outputs": [],
   "source": [
    "# Load Y\n",
    "y_train = pd.read_csv('./y_broad/y_broad_train.csv')['y_broad']\n",
    "y_test = pd.read_csv('./y_broad/y_broad_test.csv')['y_broad']"
   ]
  },
  {
   "cell_type": "code",
   "execution_count": 26,
   "metadata": {},
   "outputs": [],
   "source": [
    "# Load Fasttext data\n",
    "x_train = pd.read_csv('./y_broad/train_embeddedFT_300.csv', header=None).to_numpy()\n",
    "x_test = pd.read_csv('./y_broad/test_embeddedFT_300.csv', header=None).to_numpy()\n",
    "x_unlabelled = pd.read_csv('unlabelled_embeddedFT1.csv', header=None).to_numpy()"
   ]
  },
  {
   "cell_type": "code",
   "execution_count": 27,
   "metadata": {},
   "outputs": [
    {
     "data": {
      "text/plain": [
       "((13576, 300), (6688, 300), (993526, 300))"
      ]
     },
     "execution_count": 27,
     "metadata": {},
     "output_type": "execute_result"
    }
   ],
   "source": [
    "# check data dimensions\n",
    "x_train.shape, x_test.shape, x_unlabelled.shape"
   ]
  },
  {
   "cell_type": "markdown",
   "metadata": {},
   "source": [
    "## 4.2 Pre-processing\n",
    "### 4.2.1 Feature selection\n",
    "\n",
    "The feature selection approach relies on a Support Vector Machine (SVM) with a L1 penalty to shrink coefficients to 0 that do not affect the outcome at all, depending on the regularization parameter C. The lower the parameter C, the fewer features remain."
   ]
  },
  {
   "cell_type": "code",
   "execution_count": 8,
   "metadata": {},
   "outputs": [],
   "source": [
    "# SVM model with penalty\n",
    "lsvc = LinearSVC(C=1,\n",
    "                 penalty=\"l1\", \n",
    "                 dual=False,\n",
    "                 random_state=421,\n",
    "                 max_iter = 10000)\n",
    "model = SelectFromModel(lsvc).fit(x_train, y_train)"
   ]
  },
  {
   "cell_type": "code",
   "execution_count": 29,
   "metadata": {},
   "outputs": [],
   "source": [
    "# Prepare the data\n",
    "x_train_transformed = pd.DataFrame(model.transform(x_train))\n",
    "x_test_transformed = pd.DataFrame(model.transform(x_test))\n",
    "x_unlabelled_transformed = pd.DataFrame(model.transform(x_unlabelled))"
   ]
  },
  {
   "cell_type": "code",
   "execution_count": 30,
   "metadata": {},
   "outputs": [
    {
     "data": {
      "text/plain": [
       "((13576, 220), (6688, 220), (993526, 220))"
      ]
     },
     "execution_count": 30,
     "metadata": {},
     "output_type": "execute_result"
    }
   ],
   "source": [
    "# check the dimensions\n",
    "x_train_transformed.shape, x_test_transformed.shape , x_unlabelled_transformed.shape"
   ]
  },
  {
   "cell_type": "markdown",
   "metadata": {},
   "source": [
    "### 4.2.2 Upsampling"
   ]
  },
  {
   "cell_type": "markdown",
   "metadata": {},
   "source": [
    "Due to the imbalanced distribution of the response, the training data is upsampled to ensure training on a balanced distribution. The test data retains the imbalanced distribution."
   ]
  },
  {
   "cell_type": "code",
   "execution_count": 12,
   "metadata": {},
   "outputs": [],
   "source": [
    "# Select the minority class samples\n",
    "minority_class_samples = x_train_transformed[y_train == 1]\n",
    "\n",
    "# Extract the corresponding labels for the minority class samples.\n",
    "minority_class_labels = y_train[y_train == 1]\n",
    "\n",
    "# Upsample the minority class to match the majority class\n",
    "X_upsampled, y_upsampled = resample(minority_class_samples, # upsample the minority class samples \n",
    "                                    minority_class_labels, # upsample labels \n",
    "                                    replace=True, # add more to the original number of samples\n",
    "                                    n_samples=x_train_transformed[y_train == 0].shape[0], # The n_samples argument specifies the desired number of samples, which is set to the number of samples in the majority class.\n",
    "                                    random_state=123) # The random_state=123 sets a seed for reproducibility.\n",
    "\n",
    "# Put dataframes together again\n",
    "x_bal_transformed = np.vstack((x_train_transformed[y_train == 0], X_upsampled))\n",
    "y_bal = np.hstack((y_train[y_train == 0], y_upsampled))"
   ]
  },
  {
   "cell_type": "code",
   "execution_count": 13,
   "metadata": {},
   "outputs": [
    {
     "data": {
      "text/plain": [
       "((25612, 220), (25612,))"
      ]
     },
     "execution_count": 13,
     "metadata": {},
     "output_type": "execute_result"
    }
   ],
   "source": [
    "# check the dimensions\n",
    "x_bal_transformed.shape, y_bal.shape"
   ]
  },
  {
   "cell_type": "markdown",
   "metadata": {},
   "source": [
    "### 4.2.3 Dimensionality reduction\n",
    "\n",
    "The fastText vectors may correlate to some extent, so Principal Component Analysis "
   ]
  },
  {
   "cell_type": "code",
   "execution_count": 31,
   "metadata": {},
   "outputs": [],
   "source": [
    "# standardize the vectors before PCA\n",
    "scaler = StandardScaler(with_mean=False)  # with_mean=False for sparse matrices\n",
    "x_bal_scaled = scaler.fit_transform(x_bal_transformed)\n",
    "x_test_scaled = scaler.fit_transform(x_test_transformed)\n",
    "x_unlabelled_scaled = scaler.fit_transform(x_unlabelled_transformed)"
   ]
  },
  {
   "cell_type": "code",
   "execution_count": 32,
   "metadata": {},
   "outputs": [],
   "source": [
    "# Coinfigure PCA\n",
    "pca = PCA(n_components=0.95, random_state=421)  # Retain 95% variance"
   ]
  },
  {
   "cell_type": "code",
   "execution_count": 33,
   "metadata": {},
   "outputs": [],
   "source": [
    "# Apply PCA\n",
    "x_bal_pca = pca.fit_transform(x_bal_scaled)\n",
    "x_test_pca = pca.transform(x_test_scaled)\n",
    "x_unlabelled_pca = pca.transform(x_unlabelled_scaled)"
   ]
  },
  {
   "cell_type": "code",
   "execution_count": 34,
   "metadata": {},
   "outputs": [
    {
     "data": {
      "text/plain": [
       "((25612, 155), (6688, 155), (993526, 155))"
      ]
     },
     "execution_count": 34,
     "metadata": {},
     "output_type": "execute_result"
    }
   ],
   "source": [
    "# check the dimensions\n",
    "x_bal_pca.shape, x_test_pca.shape, x_unlabelled_pca.shape"
   ]
  },
  {
   "cell_type": "markdown",
   "metadata": {},
   "source": [
    " ## 4.3 Linear Support Vector Machine\n",
    "\n",
    " The linear SVM fits a L2 penalty by default. The C parameter was determined via a grid search."
   ]
  },
  {
   "cell_type": "code",
   "execution_count": 19,
   "metadata": {},
   "outputs": [],
   "source": [
    "## configure first classifier\n",
    "svm_classifier = SVC(kernel = 'linear', C = 9, random_state = 421)"
   ]
  },
  {
   "cell_type": "code",
   "execution_count": 20,
   "metadata": {},
   "outputs": [],
   "source": [
    "# fit model with PCA data\n",
    "Model2 = svm_classifier.fit(x_bal_pca, y_bal)"
   ]
  },
  {
   "cell_type": "code",
   "execution_count": 21,
   "metadata": {},
   "outputs": [],
   "source": [
    "# predict on test set\n",
    "y_test_pred = Model2.predict(x_test_pca)"
   ]
  },
  {
   "cell_type": "code",
   "execution_count": 35,
   "metadata": {},
   "outputs": [
    {
     "name": "stdout",
     "output_type": "stream",
     "text": [
      "Test data accuracy: 0.885\n"
     ]
    }
   ],
   "source": [
    "# Estimation\n",
    "print('Test data accuracy: %.3f' % Model2.score(x_test_pca, y_test))"
   ]
  },
  {
   "cell_type": "code",
   "execution_count": null,
   "metadata": {},
   "outputs": [
    {
     "name": "stdout",
     "output_type": "stream",
     "text": [
      "              precision    recall  f1-score   support\n",
      "\n",
      "           0       0.99      0.89      0.94      6308\n",
      "           1       0.31      0.87      0.46       380\n",
      "\n",
      "    accuracy                           0.88      6688\n",
      "   macro avg       0.65      0.88      0.70      6688\n",
      "weighted avg       0.95      0.88      0.91      6688\n",
      "\n"
     ]
    }
   ],
   "source": [
    "# Evaluate the model \n",
    "print(metrics.classification_report(y_true=y_test, y_pred=y_test_pred))"
   ]
  },
  {
   "cell_type": "code",
   "execution_count": 37,
   "metadata": {},
   "outputs": [
    {
     "name": "stdout",
     "output_type": "stream",
     "text": [
      "[[5586  722]\n",
      " [  50  330]]\n"
     ]
    }
   ],
   "source": [
    "# Confusion matrix\n",
    "from sklearn.metrics import confusion_matrix\n",
    "cm = confusion_matrix(y_true=y_test, y_pred=y_test_pred)\n",
    "print(cm)"
   ]
  },
  {
   "cell_type": "code",
   "execution_count": 38,
   "metadata": {},
   "outputs": [
    {
     "name": "stdout",
     "output_type": "stream",
     "text": [
      "Confusion Matrix:\n"
     ]
    },
    {
     "data": {
      "image/png": "[encoded data removed]",
      "text/plain": [
       "<Figure size 640x480 with 2 Axes>"
      ]
     },
     "metadata": {},
     "output_type": "display_data"
    }
   ],
   "source": [
    "# Confusion matrix\n",
    "confusion = confusion_matrix(y_true=y_test, y_pred=y_test_pred)\n",
    "\n",
    "print(\"Confusion Matrix:\")\n",
    "sns.heatmap(confusion, annot=True, cmap='Blues', fmt='d')\n",
    "plt.xlabel('Predicted')\n",
    "plt.ylabel('True')\n",
    "plt.title('Confusion Matrix')\n",
    "plt.show()"
   ]
  },
  {
   "cell_type": "markdown",
   "metadata": {},
   "source": [
    "The model produces a large number of false positives (which are comparatively easy to eliminate), and a small number of false negatives (which are difficult to eliminate)."
   ]
  },
  {
   "cell_type": "markdown",
   "metadata": {},
   "source": [
    "## 4.4 Prediction\n"
   ]
  },
  {
   "cell_type": "code",
   "execution_count": null,
   "metadata": {},
   "outputs": [
    {
     "data": {
      "text/html": [
       "<div>\n",
       "<style scoped>\n",
       "    .dataframe tbody tr th:only-of-type {\n",
       "        vertical-align: middle;\n",
       "    }\n",
       "\n",
       "    .dataframe tbody tr th {\n",
       "        vertical-align: top;\n",
       "    }\n",
       "\n",
       "    .dataframe thead th {\n",
       "        text-align: right;\n",
       "    }\n",
       "</style>\n",
       "<table border=\"1\" class=\"dataframe\">\n",
       "  <thead>\n",
       "    <tr style=\"text-align: right;\">\n",
       "      <th></th>\n",
       "      <th>doc_index</th>\n",
       "      <th>ran200doc</th>\n",
       "      <th>sentences</th>\n",
       "      <th>ran20sen</th>\n",
       "      <th>sen_index</th>\n",
       "      <th>tokenized_sen</th>\n",
       "      <th>tokenized_sen_filtered</th>\n",
       "    </tr>\n",
       "  </thead>\n",
       "  <tbody>\n",
       "    <tr>\n",
       "      <th>0</th>\n",
       "      <td>1</td>\n",
       "      <td>137</td>\n",
       "      <td>《中外合资、合作医疗机构管理暂行办法》的补充规定        中华...</td>\n",
       "      <td>16</td>\n",
       "      <td>1</td>\n",
       "      <td>[' ', ' ', ' ', ' ', ' ', ' ', ' ', ' ', ' ', ...</td>\n",
       "      <td>[中外合资, 合作医疗, 机构, 管理, 暂行办法, 补充规定, 中华人民共和国, 卫生部,...</td>\n",
       "    </tr>\n",
       "    <tr>\n",
       "      <th>1</th>\n",
       "      <td>1</td>\n",
       "      <td>137</td>\n",
       "      <td>卫生部部长：陈竺商务部部长：陈德铭二○○七年十二月三十日　　《中外合资、合作医疗机构管理暂行...</td>\n",
       "      <td>18</td>\n",
       "      <td>2</td>\n",
       "      <td>['卫生部', '部长', '：', '陈竺', '商务部', '部长', '：', '陈德...</td>\n",
       "      <td>[卫生部, 部长, 陈竺, 商务部, 部长, 陈德铭, ○, ○, 七年, 十二月, 三十日...</td>\n",
       "    </tr>\n",
       "    <tr>\n",
       "      <th>2</th>\n",
       "      <td>1</td>\n",
       "      <td>137</td>\n",
       "      <td>二、本规定中香港、澳门服务提供者应分别符合《内地与香港关于建立更紧密经贸关系的安排》及《...</td>\n",
       "      <td>18</td>\n",
       "      <td>3</td>\n",
       "      <td>['\\u3000', '\\u3000', '二', '、', '本', '规定', '中',...</td>\n",
       "      <td>[规定, 香港, 澳门, 服务提供者, 应, 符合, 内地, 香港, 建立, 紧密, 经贸关...</td>\n",
       "    </tr>\n",
       "    <tr>\n",
       "      <th>3</th>\n",
       "      <td>1</td>\n",
       "      <td>137</td>\n",
       "      <td>三、香港、澳门服务提供者在内地设立合资、合作医疗机构的其他规定，仍参照《中外合资、合作医...</td>\n",
       "      <td>7</td>\n",
       "      <td>4</td>\n",
       "      <td>['\\u3000', '\\u3000', '三', '、', '香港', '、', '澳门'...</td>\n",
       "      <td>[香港, 澳门, 服务提供者, 内地, 设立, 合资, 合作医疗, 机构, 规定, 参照, ...</td>\n",
       "    </tr>\n",
       "    <tr>\n",
       "      <th>4</th>\n",
       "      <td>1</td>\n",
       "      <td>137</td>\n",
       "      <td>四、本规定自2008年1月1日起施行</td>\n",
       "      <td>16</td>\n",
       "      <td>5</td>\n",
       "      <td>['\\u3000', '\\u3000', '四', '、', '本', '规定', '自',...</td>\n",
       "      <td>[规定, 日起, 施行]</td>\n",
       "    </tr>\n",
       "    <tr>\n",
       "      <th>...</th>\n",
       "      <td>...</td>\n",
       "      <td>...</td>\n",
       "      <td>...</td>\n",
       "      <td>...</td>\n",
       "      <td>...</td>\n",
       "      <td>...</td>\n",
       "      <td>...</td>\n",
       "    </tr>\n",
       "    <tr>\n",
       "      <th>993521</th>\n",
       "      <td>31138</td>\n",
       "      <td>35</td>\n",
       "      <td>否则不予报销</td>\n",
       "      <td>7</td>\n",
       "      <td>1003131</td>\n",
       "      <td>['否则', '不予', '报销']</td>\n",
       "      <td>[不予, 报销]</td>\n",
       "    </tr>\n",
       "    <tr>\n",
       "      <th>993522</th>\n",
       "      <td>31138</td>\n",
       "      <td>35</td>\n",
       "      <td>第四章　附则　　第二十四条　本技术方案从二00八年六月一日起统一执行，同时原制定的补偿方案作废</td>\n",
       "      <td>8</td>\n",
       "      <td>1003132</td>\n",
       "      <td>['\\u3000', '第四章', '\\u3000', '附则', '\\u3000', '\\...</td>\n",
       "      <td>[第四章, 附则, 第二十四条, 技术, 方案, 八年, 六月, 一日, 统一, 执行, 原...</td>\n",
       "    </tr>\n",
       "    <tr>\n",
       "      <th>993523</th>\n",
       "      <td>31138</td>\n",
       "      <td>35</td>\n",
       "      <td>第二十五条　本方案由龙胜各族自治县新型农村合作医疗管理办公室负责解释</td>\n",
       "      <td>9</td>\n",
       "      <td>1003133</td>\n",
       "      <td>['\\u3000', '\\u3000', '第二十五条', '\\u3000', '本', '...</td>\n",
       "      <td>[第二十五条, 方案, 龙胜各族自治县, 新型农村, 合作医疗, 管理, 办公室, 负责, 解释]</td>\n",
       "    </tr>\n",
       "    <tr>\n",
       "      <th>993524</th>\n",
       "      <td>31139</td>\n",
       "      <td>91</td>\n",
       "      <td>龙胜各族自治县人民政府关于成立自治县“健康扶贫·医疗救助”公益基金管理工作领导小组的通知龙胜...</td>\n",
       "      <td>14</td>\n",
       "      <td>1003135</td>\n",
       "      <td>['龙胜各族自治县', '人民政府', '关于', '成立', '自治县', '“', '健...</td>\n",
       "      <td>[龙胜各族自治县, 人民政府, 成立, 自治县, 健康, 扶贫, ·, 医疗, 救助, 公益...</td>\n",
       "    </tr>\n",
       "    <tr>\n",
       "      <th>993525</th>\n",
       "      <td>31139</td>\n",
       "      <td>91</td>\n",
       "      <td>龙胜各族自治县人民政府办公室2017年8月24日</td>\n",
       "      <td>3</td>\n",
       "      <td>1003136</td>\n",
       "      <td>['龙胜各族自治县', '人民政府', '办公室', '2017', '年', '8', '...</td>\n",
       "      <td>[龙胜各族自治县, 人民政府, 办公室]</td>\n",
       "    </tr>\n",
       "  </tbody>\n",
       "</table>\n",
       "<p>993526 rows × 7 columns</p>\n",
       "</div>"
      ],
      "text/plain": [
       "        doc_index  ran200doc  \\\n",
       "0               1        137   \n",
       "1               1        137   \n",
       "2               1        137   \n",
       "3               1        137   \n",
       "4               1        137   \n",
       "...           ...        ...   \n",
       "993521      31138         35   \n",
       "993522      31138         35   \n",
       "993523      31138         35   \n",
       "993524      31139         91   \n",
       "993525      31139         91   \n",
       "\n",
       "                                                sentences  ran20sen  \\\n",
       "0                   《中外合资、合作医疗机构管理暂行办法》的补充规定        中华...        16   \n",
       "1       卫生部部长：陈竺商务部部长：陈德铭二○○七年十二月三十日　　《中外合资、合作医疗机构管理暂行...        18   \n",
       "2       　　二、本规定中香港、澳门服务提供者应分别符合《内地与香港关于建立更紧密经贸关系的安排》及《...        18   \n",
       "3       　　三、香港、澳门服务提供者在内地设立合资、合作医疗机构的其他规定，仍参照《中外合资、合作医...         7   \n",
       "4                                    　　四、本规定自2008年1月1日起施行        16   \n",
       "...                                                   ...       ...   \n",
       "993521                                             否则不予报销         7   \n",
       "993522   　第四章　附则　　第二十四条　本技术方案从二00八年六月一日起统一执行，同时原制定的补偿方案作废         8   \n",
       "993523               　　第二十五条　本方案由龙胜各族自治县新型农村合作医疗管理办公室负责解释         9   \n",
       "993524  龙胜各族自治县人民政府关于成立自治县“健康扶贫·医疗救助”公益基金管理工作领导小组的通知龙胜...        14   \n",
       "993525                           龙胜各族自治县人民政府办公室2017年8月24日         3   \n",
       "\n",
       "        sen_index                                      tokenized_sen  \\\n",
       "0               1  [' ', ' ', ' ', ' ', ' ', ' ', ' ', ' ', ' ', ...   \n",
       "1               2  ['卫生部', '部长', '：', '陈竺', '商务部', '部长', '：', '陈德...   \n",
       "2               3  ['\\u3000', '\\u3000', '二', '、', '本', '规定', '中',...   \n",
       "3               4  ['\\u3000', '\\u3000', '三', '、', '香港', '、', '澳门'...   \n",
       "4               5  ['\\u3000', '\\u3000', '四', '、', '本', '规定', '自',...   \n",
       "...           ...                                                ...   \n",
       "993521    1003131                                 ['否则', '不予', '报销']   \n",
       "993522    1003132  ['\\u3000', '第四章', '\\u3000', '附则', '\\u3000', '\\...   \n",
       "993523    1003133  ['\\u3000', '\\u3000', '第二十五条', '\\u3000', '本', '...   \n",
       "993524    1003135  ['龙胜各族自治县', '人民政府', '关于', '成立', '自治县', '“', '健...   \n",
       "993525    1003136  ['龙胜各族自治县', '人民政府', '办公室', '2017', '年', '8', '...   \n",
       "\n",
       "                                   tokenized_sen_filtered  \n",
       "0       [中外合资, 合作医疗, 机构, 管理, 暂行办法, 补充规定, 中华人民共和国, 卫生部,...  \n",
       "1       [卫生部, 部长, 陈竺, 商务部, 部长, 陈德铭, ○, ○, 七年, 十二月, 三十日...  \n",
       "2       [规定, 香港, 澳门, 服务提供者, 应, 符合, 内地, 香港, 建立, 紧密, 经贸关...  \n",
       "3       [香港, 澳门, 服务提供者, 内地, 设立, 合资, 合作医疗, 机构, 规定, 参照, ...  \n",
       "4                                            [规定, 日起, 施行]  \n",
       "...                                                   ...  \n",
       "993521                                           [不予, 报销]  \n",
       "993522  [第四章, 附则, 第二十四条, 技术, 方案, 八年, 六月, 一日, 统一, 执行, 原...  \n",
       "993523  [第二十五条, 方案, 龙胜各族自治县, 新型农村, 合作医疗, 管理, 办公室, 负责, 解释]  \n",
       "993524  [龙胜各族自治县, 人民政府, 成立, 自治县, 健康, 扶贫, ·, 医疗, 救助, 公益...  \n",
       "993525                               [龙胜各族自治县, 人民政府, 办公室]  \n",
       "\n",
       "[993526 rows x 7 columns]"
      ]
     },
     "execution_count": 40,
     "metadata": {},
     "output_type": "execute_result"
    }
   ],
   "source": [
    "# load unlabelled data\n",
    "data_unlabelled = pd.read_csv('./data_unlabelled_tok_fil.csv', converters={'tokenized_sen_filtered': literal_eval})\n",
    "data_unlabelled"
   ]
  },
  {
   "cell_type": "code",
   "execution_count": 41,
   "metadata": {},
   "outputs": [
    {
     "data": {
      "text/plain": [
       "0         0\n",
       "1         0\n",
       "2         0\n",
       "3         0\n",
       "4         0\n",
       "         ..\n",
       "993521    0\n",
       "993522    0\n",
       "993523    0\n",
       "993524    0\n",
       "993525    0\n",
       "Name: svm_predictions, Length: 993526, dtype: int64"
      ]
     },
     "execution_count": 41,
     "metadata": {},
     "output_type": "execute_result"
    }
   ],
   "source": [
    "data_unlabelled['svm_predictions'] = Model2.predict(x_unlabelled_pca)\n",
    "data_unlabelled['svm_predictions']"
   ]
  },
  {
   "cell_type": "code",
   "execution_count": null,
   "metadata": {},
   "outputs": [
    {
     "data": {
      "text/plain": [
       "svm_predictions\n",
       "0    835404\n",
       "1    158122\n",
       "Name: count, dtype: int64"
      ]
     },
     "execution_count": 42,
     "metadata": {},
     "output_type": "execute_result"
    }
   ],
   "source": [
    "# Predict\n",
    "data_unlabelled['svm_predictions'].value_counts()\n"
   ]
  },
  {
   "cell_type": "code",
   "execution_count": 43,
   "metadata": {},
   "outputs": [
    {
     "data": {
      "text/html": [
       "<div>\n",
       "<style scoped>\n",
       "    .dataframe tbody tr th:only-of-type {\n",
       "        vertical-align: middle;\n",
       "    }\n",
       "\n",
       "    .dataframe tbody tr th {\n",
       "        vertical-align: top;\n",
       "    }\n",
       "\n",
       "    .dataframe thead th {\n",
       "        text-align: right;\n",
       "    }\n",
       "</style>\n",
       "<table border=\"1\" class=\"dataframe\">\n",
       "  <thead>\n",
       "    <tr style=\"text-align: right;\">\n",
       "      <th></th>\n",
       "      <th>doc_index</th>\n",
       "      <th>ran200doc</th>\n",
       "      <th>ran20sen</th>\n",
       "      <th>sen_index</th>\n",
       "      <th>svm_predictions</th>\n",
       "    </tr>\n",
       "  </thead>\n",
       "  <tbody>\n",
       "    <tr>\n",
       "      <th>0</th>\n",
       "      <td>1</td>\n",
       "      <td>137</td>\n",
       "      <td>16</td>\n",
       "      <td>1</td>\n",
       "      <td>0</td>\n",
       "    </tr>\n",
       "    <tr>\n",
       "      <th>1</th>\n",
       "      <td>1</td>\n",
       "      <td>137</td>\n",
       "      <td>18</td>\n",
       "      <td>2</td>\n",
       "      <td>0</td>\n",
       "    </tr>\n",
       "    <tr>\n",
       "      <th>2</th>\n",
       "      <td>1</td>\n",
       "      <td>137</td>\n",
       "      <td>18</td>\n",
       "      <td>3</td>\n",
       "      <td>0</td>\n",
       "    </tr>\n",
       "    <tr>\n",
       "      <th>3</th>\n",
       "      <td>1</td>\n",
       "      <td>137</td>\n",
       "      <td>7</td>\n",
       "      <td>4</td>\n",
       "      <td>0</td>\n",
       "    </tr>\n",
       "    <tr>\n",
       "      <th>4</th>\n",
       "      <td>1</td>\n",
       "      <td>137</td>\n",
       "      <td>16</td>\n",
       "      <td>5</td>\n",
       "      <td>0</td>\n",
       "    </tr>\n",
       "    <tr>\n",
       "      <th>...</th>\n",
       "      <td>...</td>\n",
       "      <td>...</td>\n",
       "      <td>...</td>\n",
       "      <td>...</td>\n",
       "      <td>...</td>\n",
       "    </tr>\n",
       "    <tr>\n",
       "      <th>993521</th>\n",
       "      <td>31138</td>\n",
       "      <td>35</td>\n",
       "      <td>7</td>\n",
       "      <td>1003131</td>\n",
       "      <td>0</td>\n",
       "    </tr>\n",
       "    <tr>\n",
       "      <th>993522</th>\n",
       "      <td>31138</td>\n",
       "      <td>35</td>\n",
       "      <td>8</td>\n",
       "      <td>1003132</td>\n",
       "      <td>0</td>\n",
       "    </tr>\n",
       "    <tr>\n",
       "      <th>993523</th>\n",
       "      <td>31138</td>\n",
       "      <td>35</td>\n",
       "      <td>9</td>\n",
       "      <td>1003133</td>\n",
       "      <td>0</td>\n",
       "    </tr>\n",
       "    <tr>\n",
       "      <th>993524</th>\n",
       "      <td>31139</td>\n",
       "      <td>91</td>\n",
       "      <td>14</td>\n",
       "      <td>1003135</td>\n",
       "      <td>0</td>\n",
       "    </tr>\n",
       "    <tr>\n",
       "      <th>993525</th>\n",
       "      <td>31139</td>\n",
       "      <td>91</td>\n",
       "      <td>3</td>\n",
       "      <td>1003136</td>\n",
       "      <td>0</td>\n",
       "    </tr>\n",
       "  </tbody>\n",
       "</table>\n",
       "<p>993526 rows × 5 columns</p>\n",
       "</div>"
      ],
      "text/plain": [
       "        doc_index  ran200doc  ran20sen  sen_index  svm_predictions\n",
       "0               1        137        16          1                0\n",
       "1               1        137        18          2                0\n",
       "2               1        137        18          3                0\n",
       "3               1        137         7          4                0\n",
       "4               1        137        16          5                0\n",
       "...           ...        ...       ...        ...              ...\n",
       "993521      31138         35         7    1003131                0\n",
       "993522      31138         35         8    1003132                0\n",
       "993523      31138         35         9    1003133                0\n",
       "993524      31139         91        14    1003135                0\n",
       "993525      31139         91         3    1003136                0\n",
       "\n",
       "[993526 rows x 5 columns]"
      ]
     },
     "execution_count": 43,
     "metadata": {},
     "output_type": "execute_result"
    }
   ],
   "source": [
    "data_predictions = data_unlabelled.drop(['sentences', 'tokenized_sen', 'tokenized_sen_filtered'], axis = 1)\n",
    "data_predictions"
   ]
  },
  {
   "cell_type": "code",
   "execution_count": null,
   "metadata": {},
   "outputs": [],
   "source": [
    "# save\n",
    "data_predictions.to_csv('data_predictions.csv', index=False)"
   ]
  }
 ],
 "metadata": {
  "kernelspec": {
   "display_name": "Python 3",
   "language": "python",
   "name": "python3"
  },
  "language_info": {
   "codemirror_mode": {
    "name": "ipython",
    "version": 3
   },
   "file_extension": ".py",
   "mimetype": "text/x-python",
   "name": "python",
   "nbconvert_exporter": "python",
   "pygments_lexer": "ipython3",
   "version": "3.9.6"
  }
 },
 "nbformat": 4,
 "nbformat_minor": 2
}
